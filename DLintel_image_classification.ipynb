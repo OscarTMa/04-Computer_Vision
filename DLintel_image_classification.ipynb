{
  "nbformat": 4,
  "nbformat_minor": 0,
  "metadata": {
    "colab": {
      "provenance": [],
      "authorship_tag": "ABX9TyOTNyHcJgWdHTiXYX8QCWip",
      "include_colab_link": true
    },
    "kernelspec": {
      "name": "python3",
      "display_name": "Python 3"
    },
    "language_info": {
      "name": "python"
    }
  },
  "cells": [
    {
      "cell_type": "markdown",
      "metadata": {
        "id": "view-in-github",
        "colab_type": "text"
      },
      "source": [
        "<a href=\"https://colab.research.google.com/github/OscarTMa/04-Computer_Vision/blob/main/DLintel_image_classification.ipynb\" target=\"_parent\"><img src=\"https://colab.research.google.com/assets/colab-badge.svg\" alt=\"Open In Colab\"/></a>"
      ]
    },
    {
      "cell_type": "markdown",
      "source": [
        "This notebook should be useful for teaching computer vision concepts using a Kaggle dataset, demonstrating how to download data, prepare datasets, build and train a convolutional neural network model, and evaluate and visualize the model's performance."
      ],
      "metadata": {
        "id": "VJkONpDMSkPM"
      }
    },
    {
      "cell_type": "code",
      "source": [],
      "metadata": {
        "id": "sfY2HpHJHDOf"
      },
      "execution_count": null,
      "outputs": []
    },
    {
      "cell_type": "code",
      "execution_count": 5,
      "metadata": {
        "id": "oNI5J5kS0nRn"
      },
      "outputs": [],
      "source": [
        "# Import necessary libraries\n",
        "import tensorflow as tf\n",
        "from tensorflow.keras import layers, models\n",
        "import matplotlib.pyplot as plt\n",
        "import os\n",
        "import zipfile\n",
        "from tensorflow.keras.preprocessing import image_dataset_from_directory\n"
      ]
    },
    {
      "cell_type": "code",
      "source": [
        "# Install Kaggle API if not already installed\n",
        "!pip install -q kaggle"
      ],
      "metadata": {
        "id": "NAlBR84rlww0"
      },
      "execution_count": 6,
      "outputs": []
    },
    {
      "cell_type": "code",
      "source": [],
      "metadata": {
        "id": "6RwBAS5cmSle"
      },
      "execution_count": null,
      "outputs": []
    },
    {
      "cell_type": "markdown",
      "source": [
        "##Explanation:\n",
        "\n",
        "* **Importing Libraries**: We import TensorFlow, Keras, and Matplotlib. We also import additional modules for file handling and datasets.\n",
        "* **Installing Kaggle API**: We install the Kaggle API to download datasets directly from Kaggle."
      ],
      "metadata": {
        "id": "Tc31aR7zOlOy"
      }
    },
    {
      "cell_type": "code",
      "source": [
        "# Download the dataset from Kaggle\n",
        "!kaggle datasets download -d puneet6060/intel-image-classification"
      ],
      "metadata": {
        "colab": {
          "base_uri": "https://localhost:8080/"
        },
        "id": "r4WTyuHrmSy_",
        "outputId": "749f8b78-c7ff-44b4-88ce-d4588368caec"
      },
      "execution_count": 7,
      "outputs": [
        {
          "output_type": "stream",
          "name": "stdout",
          "text": [
            "Dataset URL: https://www.kaggle.com/datasets/puneet6060/intel-image-classification\n",
            "License(s): copyright-authors\n",
            "Downloading intel-image-classification.zip to /content\n",
            " 97% 337M/346M [00:07<00:00, 38.8MB/s]\n",
            "100% 346M/346M [00:07<00:00, 50.5MB/s]\n"
          ]
        }
      ]
    },
    {
      "cell_type": "markdown",
      "source": [
        "## Explanation:\n",
        "\n",
        "* **Downloading the Dataset:** We use the Kaggle API to download the \"Intel Image Classification\" dataset.\n",
        "* **Unzipping the Dataset**: We unzip the downloaded file and extract its contents into the data folder.\n",
        "python\n"
      ],
      "metadata": {
        "id": "hnxM3gMxO0Eg"
      }
    },
    {
      "cell_type": "code",
      "source": [
        "# Unzip the dataset\n",
        "with zipfile.ZipFile('intel-image-classification.zip', 'r') as zip_ref:\n",
        "    zip_ref.extractall('data')"
      ],
      "metadata": {
        "id": "9vc_7wN1lxMz"
      },
      "execution_count": 8,
      "outputs": []
    },
    {
      "cell_type": "code",
      "source": [],
      "metadata": {
        "id": "dZWby6UTlxRC"
      },
      "execution_count": null,
      "outputs": []
    },
    {
      "cell_type": "markdown",
      "source": [
        "##Explanation:\n",
        "\n",
        "* **Defining Directories:** We specify the paths to the training and validation directories where the images are stored."
      ],
      "metadata": {
        "id": "gQNfscgKPWU3"
      }
    },
    {
      "cell_type": "code",
      "source": [
        "# Define directories\n",
        "train_dir = os.path.join('data/seg_train/seg_train')\n",
        "validation_dir = os.path.join('data/seg_test/seg_test')"
      ],
      "metadata": {
        "id": "ZUKp6_f9lxUv"
      },
      "execution_count": 9,
      "outputs": []
    },
    {
      "cell_type": "code",
      "source": [],
      "metadata": {
        "id": "RzYGpkBCHLp4"
      },
      "execution_count": null,
      "outputs": []
    },
    {
      "cell_type": "markdown",
      "source": [
        "##Explanation:\n",
        "\n",
        "* **Loading Datasets**: We use ` image_dataset_from_directory`  to load images from the training and validation directories. This converts the images into a TensorFlow dataset with a specified image size of 150x150 pixels and a batch size of 32."
      ],
      "metadata": {
        "id": "1ZIcRhvgPi7d"
      }
    },
    {
      "cell_type": "code",
      "source": [],
      "metadata": {
        "id": "fl5yBW1EPiQR"
      },
      "execution_count": null,
      "outputs": []
    },
    {
      "cell_type": "code",
      "source": [
        "# Load datasets\n",
        "train_dataset = image_dataset_from_directory(\n",
        "    train_dir,\n",
        "    image_size=(150, 150),\n",
        "    batch_size=32\n",
        ")\n",
        "\n",
        "validation_dataset = image_dataset_from_directory(\n",
        "    validation_dir,\n",
        "    image_size=(150, 150),\n",
        "    batch_size=32\n",
        ")\n"
      ],
      "metadata": {
        "colab": {
          "base_uri": "https://localhost:8080/"
        },
        "id": "hgzEETN-l2Nb",
        "outputId": "4039eae6-28b2-466d-a162-3b5e22a4b53f"
      },
      "execution_count": 10,
      "outputs": [
        {
          "output_type": "stream",
          "name": "stdout",
          "text": [
            "Found 14034 files belonging to 6 classes.\n",
            "Found 3000 files belonging to 6 classes.\n"
          ]
        }
      ]
    },
    {
      "cell_type": "markdown",
      "source": [
        "##Explanation:\n",
        "\n",
        "* **Building the Model**: We create a sequential model using Keras.\n",
        " * `Rescaling(1./255)`: Normalizes the images so their values are between 0 and 1.\n",
        " * `Conv2D and MaxPooling2D`: Add convolutional and max-pooling layers to extract features from the images.\n",
        " * `Flatten()`: Flattens the output of the convolutional layers into a single dimension.\n",
        " * `Dense`: Adds fully connected dense layers. The last layer uses `softmax` to classify images into one of six categories."
      ],
      "metadata": {
        "id": "OQsXiIY-QA8v"
      }
    },
    {
      "cell_type": "code",
      "source": [
        "# Build the model\n",
        "model = models.Sequential([\n",
        "    layers.Rescaling(1./255, input_shape=(150, 150, 3)),\n",
        "    layers.Conv2D(32, (3, 3), activation='relu'),\n",
        "    layers.MaxPooling2D((2, 2)),\n",
        "    layers.Conv2D(64, (3, 3), activation='relu'),\n",
        "    layers.MaxPooling2D((2, 2)),\n",
        "    layers.Conv2D(128, (3, 3), activation='relu'),\n",
        "    layers.MaxPooling2D((2, 2)),\n",
        "    layers.Conv2D(128, (3, 3), activation='relu'),\n",
        "    layers.MaxPooling2D((2, 2)),\n",
        "    layers.Flatten(),\n",
        "    layers.Dense(512, activation='relu'),\n",
        "    layers.Dense(6, activation='softmax')\n",
        "])"
      ],
      "metadata": {
        "id": "k1_NEvJgl2J1"
      },
      "execution_count": 11,
      "outputs": []
    },
    {
      "cell_type": "markdown",
      "source": [
        "##Explanation:\n",
        "\n",
        "* **Compiling the Model**: We configure the model with the Adam optimizer and the `sparse_categorical_crossentropy` loss function, which is suitable for multi-class classification. We use `accuracy` as the evaluation metric."
      ],
      "metadata": {
        "id": "GplyHLxXQ7x6"
      }
    },
    {
      "cell_type": "markdown",
      "source": [
        "##Explanation:\n",
        "\n",
        "* **Training the Model**: We train the model with the training dataset and validate its performance with the validation dataset over 10 epochs."
      ],
      "metadata": {
        "id": "ylf2328aRbhH"
      }
    },
    {
      "cell_type": "code",
      "source": [
        "# Compile the model\n",
        "model.compile(optimizer='adam',\n",
        "              loss='sparse_categorical_crossentropy',\n",
        "              metrics=['accuracy'])\n",
        "\n",
        "# Train the model\n",
        "history = model.fit(\n",
        "    train_dataset,\n",
        "    epochs=10,\n",
        "    validation_data=validation_dataset\n",
        ")\n"
      ],
      "metadata": {
        "colab": {
          "base_uri": "https://localhost:8080/"
        },
        "id": "5lNn7P-Ql2DH",
        "outputId": "9ccc5fbf-b814-4789-da01-2986ac61603c"
      },
      "execution_count": 12,
      "outputs": [
        {
          "output_type": "stream",
          "name": "stdout",
          "text": [
            "Epoch 1/10\n",
            "439/439 [==============================] - 761s 2s/step - loss: 1.0017 - accuracy: 0.5986 - val_loss: 0.9461 - val_accuracy: 0.6533\n",
            "Epoch 2/10\n",
            "439/439 [==============================] - 758s 2s/step - loss: 0.6600 - accuracy: 0.7555 - val_loss: 0.6506 - val_accuracy: 0.7643\n",
            "Epoch 3/10\n",
            "439/439 [==============================] - 797s 2s/step - loss: 0.5183 - accuracy: 0.8087 - val_loss: 0.5827 - val_accuracy: 0.7917\n",
            "Epoch 4/10\n",
            "439/439 [==============================] - 757s 2s/step - loss: 0.4248 - accuracy: 0.8442 - val_loss: 0.4966 - val_accuracy: 0.8273\n",
            "Epoch 5/10\n",
            "439/439 [==============================] - 754s 2s/step - loss: 0.3590 - accuracy: 0.8719 - val_loss: 0.5304 - val_accuracy: 0.8283\n",
            "Epoch 6/10\n",
            "439/439 [==============================] - 757s 2s/step - loss: 0.2774 - accuracy: 0.9009 - val_loss: 0.5986 - val_accuracy: 0.8273\n",
            "Epoch 7/10\n",
            "439/439 [==============================] - 770s 2s/step - loss: 0.2183 - accuracy: 0.9236 - val_loss: 0.6791 - val_accuracy: 0.8203\n",
            "Epoch 8/10\n",
            "439/439 [==============================] - 793s 2s/step - loss: 0.1636 - accuracy: 0.9436 - val_loss: 0.7371 - val_accuracy: 0.8050\n",
            "Epoch 9/10\n",
            "439/439 [==============================] - 756s 2s/step - loss: 0.1256 - accuracy: 0.9561 - val_loss: 0.7838 - val_accuracy: 0.8167\n",
            "Epoch 10/10\n",
            "439/439 [==============================] - 743s 2s/step - loss: 0.1017 - accuracy: 0.9657 - val_loss: 0.8904 - val_accuracy: 0.8113\n"
          ]
        }
      ]
    },
    {
      "cell_type": "markdown",
      "source": [
        "##Explanation:\n",
        "\n",
        "* **Evaluating the Model**: We evaluate the model using the validation dataset and print the test accuracy."
      ],
      "metadata": {
        "id": "9mm2M64ISGfk"
      }
    },
    {
      "cell_type": "code",
      "source": [
        "# Evaluate the model\n",
        "test_loss, test_acc = model.evaluate(validation_dataset, verbose=2)\n",
        "print(f'\\nTest accuracy: {test_acc}')\n",
        "\n",
        "# Plot training and validation accuracy and loss\n",
        "plt.figure(figsize=(10, 5))\n",
        "plt.subplot(1, 2, 1)\n",
        "plt.plot(history.history['accuracy'], label='Training Accuracy')\n",
        "plt.plot(history.history['val_accuracy'], label='Validation Accuracy')\n",
        "plt.xlabel('Epochs')\n",
        "plt.ylabel('Accuracy')\n",
        "plt.ylim([0, 1])\n",
        "plt.legend(loc='lower right')\n",
        "\n",
        "plt.subplot(1, 2, 2)\n",
        "plt.plot(history.history['loss'], label='Training Loss')\n",
        "plt.plot(history.history['val_loss'], label='Validation Loss')\n",
        "plt.xlabel('Epochs')\n",
        "plt.ylabel('Loss')\n",
        "plt.legend(loc='upper right')\n",
        "plt.show()\n"
      ],
      "metadata": {
        "colab": {
          "base_uri": "https://localhost:8080/",
          "height": 522
        },
        "id": "QBfgKDdel14A",
        "outputId": "7aa52418-9233-47f9-b850-0169124c7ef1"
      },
      "execution_count": 13,
      "outputs": [
        {
          "output_type": "stream",
          "name": "stdout",
          "text": [
            "94/94 - 44s - loss: 0.8904 - accuracy: 0.8113 - 44s/epoch - 469ms/step\n",
            "\n",
            "Test accuracy: 0.8113333582878113\n"
          ]
        },
        {
          "output_type": "display_data",
          "data": {
            "text/plain": [
              "<Figure size 1000x500 with 2 Axes>"
            ],
            "image/png": "[encoded data removed]"
          },
          "metadata": {}
        }
      ]
    },
    {
      "cell_type": "markdown",
      "source": [
        "##Explanation:\n",
        "\n",
        "* **Plotting Results**:\n",
        " * We create a figure with two subplots.\n",
        " * In the first subplot, we plot training and validation accuracy over the epochs.\n",
        " * In the second subplot, we plot training and validation loss over the epochs.\n",
        " * We add labels and legends for better visual interpretation of the results."
      ],
      "metadata": {
        "id": "VFk2BfLwSSBt"
      }
    },
    {
      "cell_type": "code",
      "source": [],
      "metadata": {
        "id": "9Z8HurtTSewG"
      },
      "execution_count": null,
      "outputs": []
    }
  ]
}